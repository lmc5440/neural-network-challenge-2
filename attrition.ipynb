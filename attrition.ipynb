{
 "cells": [
  {
   "cell_type": "markdown",
   "metadata": {
    "id": "alIIEHibGc3M"
   },
   "source": [
    "## Part 1: Preprocessing"
   ]
  },
  {
   "cell_type": "code",
   "execution_count": 1,
   "metadata": {
    "colab": {
     "base_uri": "https://localhost:8080/",
     "height": 325
    },
    "executionInfo": {
     "elapsed": 12323,
     "status": "ok",
     "timestamp": 1730699226906,
     "user": {
      "displayName": "Alexander Booth",
      "userId": "02269714993535573104"
     },
     "user_tz": 360
    },
    "id": "6eDUJ4NtGc3P",
    "outputId": "eeae54b5-3d17-442d-94ba-00dd55b89964"
   },
   "outputs": [
    {
     "data": {
      "text/html": [
       "<div>\n",
       "<style scoped>\n",
       "    .dataframe tbody tr th:only-of-type {\n",
       "        vertical-align: middle;\n",
       "    }\n",
       "\n",
       "    .dataframe tbody tr th {\n",
       "        vertical-align: top;\n",
       "    }\n",
       "\n",
       "    .dataframe thead th {\n",
       "        text-align: right;\n",
       "    }\n",
       "</style>\n",
       "<table border=\"1\" class=\"dataframe\">\n",
       "  <thead>\n",
       "    <tr style=\"text-align: right;\">\n",
       "      <th></th>\n",
       "      <th>Age</th>\n",
       "      <th>Attrition</th>\n",
       "      <th>BusinessTravel</th>\n",
       "      <th>Department</th>\n",
       "      <th>DistanceFromHome</th>\n",
       "      <th>Education</th>\n",
       "      <th>EducationField</th>\n",
       "      <th>EnvironmentSatisfaction</th>\n",
       "      <th>HourlyRate</th>\n",
       "      <th>JobInvolvement</th>\n",
       "      <th>...</th>\n",
       "      <th>PerformanceRating</th>\n",
       "      <th>RelationshipSatisfaction</th>\n",
       "      <th>StockOptionLevel</th>\n",
       "      <th>TotalWorkingYears</th>\n",
       "      <th>TrainingTimesLastYear</th>\n",
       "      <th>WorkLifeBalance</th>\n",
       "      <th>YearsAtCompany</th>\n",
       "      <th>YearsInCurrentRole</th>\n",
       "      <th>YearsSinceLastPromotion</th>\n",
       "      <th>YearsWithCurrManager</th>\n",
       "    </tr>\n",
       "  </thead>\n",
       "  <tbody>\n",
       "    <tr>\n",
       "      <th>0</th>\n",
       "      <td>41</td>\n",
       "      <td>Yes</td>\n",
       "      <td>Travel_Rarely</td>\n",
       "      <td>Sales</td>\n",
       "      <td>1</td>\n",
       "      <td>2</td>\n",
       "      <td>Life Sciences</td>\n",
       "      <td>2</td>\n",
       "      <td>94</td>\n",
       "      <td>3</td>\n",
       "      <td>...</td>\n",
       "      <td>3</td>\n",
       "      <td>1</td>\n",
       "      <td>0</td>\n",
       "      <td>8</td>\n",
       "      <td>0</td>\n",
       "      <td>1</td>\n",
       "      <td>6</td>\n",
       "      <td>4</td>\n",
       "      <td>0</td>\n",
       "      <td>5</td>\n",
       "    </tr>\n",
       "    <tr>\n",
       "      <th>1</th>\n",
       "      <td>49</td>\n",
       "      <td>No</td>\n",
       "      <td>Travel_Frequently</td>\n",
       "      <td>Research &amp; Development</td>\n",
       "      <td>8</td>\n",
       "      <td>1</td>\n",
       "      <td>Life Sciences</td>\n",
       "      <td>3</td>\n",
       "      <td>61</td>\n",
       "      <td>2</td>\n",
       "      <td>...</td>\n",
       "      <td>4</td>\n",
       "      <td>4</td>\n",
       "      <td>1</td>\n",
       "      <td>10</td>\n",
       "      <td>3</td>\n",
       "      <td>3</td>\n",
       "      <td>10</td>\n",
       "      <td>7</td>\n",
       "      <td>1</td>\n",
       "      <td>7</td>\n",
       "    </tr>\n",
       "    <tr>\n",
       "      <th>2</th>\n",
       "      <td>37</td>\n",
       "      <td>Yes</td>\n",
       "      <td>Travel_Rarely</td>\n",
       "      <td>Research &amp; Development</td>\n",
       "      <td>2</td>\n",
       "      <td>2</td>\n",
       "      <td>Other</td>\n",
       "      <td>4</td>\n",
       "      <td>92</td>\n",
       "      <td>2</td>\n",
       "      <td>...</td>\n",
       "      <td>3</td>\n",
       "      <td>2</td>\n",
       "      <td>0</td>\n",
       "      <td>7</td>\n",
       "      <td>3</td>\n",
       "      <td>3</td>\n",
       "      <td>0</td>\n",
       "      <td>0</td>\n",
       "      <td>0</td>\n",
       "      <td>0</td>\n",
       "    </tr>\n",
       "    <tr>\n",
       "      <th>3</th>\n",
       "      <td>33</td>\n",
       "      <td>No</td>\n",
       "      <td>Travel_Frequently</td>\n",
       "      <td>Research &amp; Development</td>\n",
       "      <td>3</td>\n",
       "      <td>4</td>\n",
       "      <td>Life Sciences</td>\n",
       "      <td>4</td>\n",
       "      <td>56</td>\n",
       "      <td>3</td>\n",
       "      <td>...</td>\n",
       "      <td>3</td>\n",
       "      <td>3</td>\n",
       "      <td>0</td>\n",
       "      <td>8</td>\n",
       "      <td>3</td>\n",
       "      <td>3</td>\n",
       "      <td>8</td>\n",
       "      <td>7</td>\n",
       "      <td>3</td>\n",
       "      <td>0</td>\n",
       "    </tr>\n",
       "    <tr>\n",
       "      <th>4</th>\n",
       "      <td>27</td>\n",
       "      <td>No</td>\n",
       "      <td>Travel_Rarely</td>\n",
       "      <td>Research &amp; Development</td>\n",
       "      <td>2</td>\n",
       "      <td>1</td>\n",
       "      <td>Medical</td>\n",
       "      <td>1</td>\n",
       "      <td>40</td>\n",
       "      <td>3</td>\n",
       "      <td>...</td>\n",
       "      <td>3</td>\n",
       "      <td>4</td>\n",
       "      <td>1</td>\n",
       "      <td>6</td>\n",
       "      <td>3</td>\n",
       "      <td>3</td>\n",
       "      <td>2</td>\n",
       "      <td>2</td>\n",
       "      <td>2</td>\n",
       "      <td>2</td>\n",
       "    </tr>\n",
       "  </tbody>\n",
       "</table>\n",
       "<p>5 rows × 27 columns</p>\n",
       "</div>"
      ],
      "text/plain": [
       "   Age Attrition     BusinessTravel              Department  DistanceFromHome  \\\n",
       "0   41       Yes      Travel_Rarely                   Sales                 1   \n",
       "1   49        No  Travel_Frequently  Research & Development                 8   \n",
       "2   37       Yes      Travel_Rarely  Research & Development                 2   \n",
       "3   33        No  Travel_Frequently  Research & Development                 3   \n",
       "4   27        No      Travel_Rarely  Research & Development                 2   \n",
       "\n",
       "   Education EducationField  EnvironmentSatisfaction  HourlyRate  \\\n",
       "0          2  Life Sciences                        2          94   \n",
       "1          1  Life Sciences                        3          61   \n",
       "2          2          Other                        4          92   \n",
       "3          4  Life Sciences                        4          56   \n",
       "4          1        Medical                        1          40   \n",
       "\n",
       "   JobInvolvement  ...  PerformanceRating RelationshipSatisfaction  \\\n",
       "0               3  ...                  3                        1   \n",
       "1               2  ...                  4                        4   \n",
       "2               2  ...                  3                        2   \n",
       "3               3  ...                  3                        3   \n",
       "4               3  ...                  3                        4   \n",
       "\n",
       "   StockOptionLevel TotalWorkingYears  TrainingTimesLastYear WorkLifeBalance  \\\n",
       "0                 0                 8                      0               1   \n",
       "1                 1                10                      3               3   \n",
       "2                 0                 7                      3               3   \n",
       "3                 0                 8                      3               3   \n",
       "4                 1                 6                      3               3   \n",
       "\n",
       "   YearsAtCompany  YearsInCurrentRole  YearsSinceLastPromotion  \\\n",
       "0               6                   4                        0   \n",
       "1              10                   7                        1   \n",
       "2               0                   0                        0   \n",
       "3               8                   7                        3   \n",
       "4               2                   2                        2   \n",
       "\n",
       "   YearsWithCurrManager  \n",
       "0                     5  \n",
       "1                     7  \n",
       "2                     0  \n",
       "3                     0  \n",
       "4                     2  \n",
       "\n",
       "[5 rows x 27 columns]"
      ]
     },
     "execution_count": 1,
     "metadata": {},
     "output_type": "execute_result"
    }
   ],
   "source": [
    "# Import our dependencies\n",
    "from sklearn.model_selection import train_test_split\n",
    "from sklearn.preprocessing import StandardScaler\n",
    "import pandas as pd\n",
    "import numpy as np\n",
    "from tensorflow.keras.models import Model\n",
    "from tensorflow.keras import layers\n",
    "\n",
    "#  Import and read the attrition data\n",
    "attrition_df = pd.read_csv('https://static.bc-edx.com/ai/ail-v-1-0/m19/lms/datasets/attrition.csv')\n",
    "attrition_df.head()"
   ]
  },
  {
   "cell_type": "code",
   "execution_count": 2,
   "metadata": {
    "colab": {
     "base_uri": "https://localhost:8080/",
     "height": 930
    },
    "executionInfo": {
     "elapsed": 10,
     "status": "ok",
     "timestamp": 1730699226906,
     "user": {
      "displayName": "Alexander Booth",
      "userId": "02269714993535573104"
     },
     "user_tz": 360
    },
    "id": "g22aQSY4Gc3Q",
    "outputId": "e8b68509-45d8-42e0-a9db-1bdce48e4b2d"
   },
   "outputs": [
    {
     "data": {
      "text/plain": [
       "Age                         43\n",
       "Attrition                    2\n",
       "BusinessTravel               3\n",
       "Department                   3\n",
       "DistanceFromHome            29\n",
       "Education                    5\n",
       "EducationField               6\n",
       "EnvironmentSatisfaction      4\n",
       "HourlyRate                  71\n",
       "JobInvolvement               4\n",
       "JobLevel                     5\n",
       "JobRole                      9\n",
       "JobSatisfaction              4\n",
       "MaritalStatus                3\n",
       "NumCompaniesWorked          10\n",
       "OverTime                     2\n",
       "PercentSalaryHike           15\n",
       "PerformanceRating            2\n",
       "RelationshipSatisfaction     4\n",
       "StockOptionLevel             4\n",
       "TotalWorkingYears           40\n",
       "TrainingTimesLastYear        7\n",
       "WorkLifeBalance              4\n",
       "YearsAtCompany              37\n",
       "YearsInCurrentRole          19\n",
       "YearsSinceLastPromotion     16\n",
       "YearsWithCurrManager        18\n",
       "dtype: int64"
      ]
     },
     "execution_count": 2,
     "metadata": {},
     "output_type": "execute_result"
    }
   ],
   "source": [
    "# Determine the number of unique values in each column\n",
    "attrition_df.nunique()"
   ]
  },
  {
   "cell_type": "code",
   "execution_count": 3,
   "metadata": {
    "executionInfo": {
     "elapsed": 7,
     "status": "ok",
     "timestamp": 1730699226906,
     "user": {
      "displayName": "Alexander Booth",
      "userId": "02269714993535573104"
     },
     "user_tz": 360
    },
    "id": "50vMgBEnJbfM"
   },
   "outputs": [],
   "source": [
    "# Create y_df with the Attrition and Department columns\n",
    "y_df = attrition_df[['Attrition','Department']]"
   ]
  },
  {
   "cell_type": "code",
   "execution_count": 4,
   "metadata": {
    "colab": {
     "base_uri": "https://localhost:8080/",
     "height": 397
    },
    "executionInfo": {
     "elapsed": 125,
     "status": "ok",
     "timestamp": 1730699227025,
     "user": {
      "displayName": "Alexander Booth",
      "userId": "02269714993535573104"
     },
     "user_tz": 360
    },
    "id": "Virka0zLGc3R",
    "outputId": "24f181c9-7e2e-42cb-94e8-a75842f1ab01"
   },
   "outputs": [
    {
     "data": {
      "text/plain": [
       "Education                   int64\n",
       "Age                         int64\n",
       "DistanceFromHome            int64\n",
       "JobSatisfaction             int64\n",
       "OverTime                   object\n",
       "StockOptionLevel            int64\n",
       "WorkLifeBalance             int64\n",
       "YearsAtCompany              int64\n",
       "YearsSinceLastPromotion     int64\n",
       "NumCompaniesWorked          int64\n",
       "dtype: object"
      ]
     },
     "execution_count": 4,
     "metadata": {},
     "output_type": "execute_result"
    }
   ],
   "source": [
    "# Create a list of at least 10 column names to use as X data\n",
    "X_columns = [\n",
    "    'Education',\n",
    "    'Age',\n",
    "    'DistanceFromHome',\n",
    "    'JobSatisfaction',\n",
    "    'OverTime',\n",
    "    'StockOptionLevel',\n",
    "    'WorkLifeBalance',\n",
    "    'YearsAtCompany',\n",
    "    'YearsSinceLastPromotion',\n",
    "    'NumCompaniesWorked',\n",
    "]\n",
    "\n",
    "# Create X_df using your selected columns\n",
    "X_df = attrition_df[X_columns]\n",
    "\n",
    "# Show the data types for X_df\n",
    "X_df.dtypes"
   ]
  },
  {
   "cell_type": "code",
   "execution_count": 5,
   "metadata": {
    "executionInfo": {
     "elapsed": 9,
     "status": "ok",
     "timestamp": 1730699227025,
     "user": {
      "displayName": "Alexander Booth",
      "userId": "02269714993535573104"
     },
     "user_tz": 360
    },
    "id": "KaJfdOGUMHMR"
   },
   "outputs": [],
   "source": [
    "# Split the data into training and testing sets\n",
    "from sklearn.model_selection import train_test_split\n",
    "X_train, X_test, y_train, y_test = train_test_split(X_df, y_df, test_size=0.2, random_state=42)\n"
   ]
  },
  {
   "cell_type": "code",
   "execution_count": 6,
   "metadata": {},
   "outputs": [
    {
     "data": {
      "text/plain": [
       "OverTime\n",
       "No     1054\n",
       "Yes     416\n",
       "Name: count, dtype: int64"
      ]
     },
     "execution_count": 6,
     "metadata": {},
     "output_type": "execute_result"
    }
   ],
   "source": [
    "X_df['OverTime'].value_counts()"
   ]
  },
  {
   "cell_type": "code",
   "execution_count": 8,
   "metadata": {
    "colab": {
     "base_uri": "https://localhost:8080/",
     "height": 178
    },
    "executionInfo": {
     "elapsed": 8,
     "status": "ok",
     "timestamp": 1730699227025,
     "user": {
      "displayName": "Alexander Booth",
      "userId": "02269714993535573104"
     },
     "user_tz": 360
    },
    "id": "NYubUJqiLCSp",
    "outputId": "6116187c-4afa-4d4a-aeb9-fdc2131d0d58"
   },
   "outputs": [],
   "source": [
    "# Convert your X data to numeric data types however you see fit\n",
    "# Add new code cells as necessary\n",
    "\n",
    "from sklearn.preprocessing import OneHotEncoder\n",
    "\n",
    "overtime_encoder = OneHotEncoder(sparse_output=False,drop='first')\n",
    "\n",
    "overtime_encoder.fit(np.array(X_train[\"OverTime\"]).reshape(-1,1))\n",
    "\n",
    "X_train[\"OverTime_Encoded\"]= overtime_encoder.transform(np.array(X_train[\"OverTime\"]).reshape(-1,1))\n",
    "X_test[\"OverTime_Encoded\"]= overtime_encoder.transform(np.array(X_test[\"OverTime\"]).reshape(-1,1))\n",
    "\n",
    "X_train=X_train.drop(columns=\"OverTime\")\n",
    "X_test=X_test.drop(columns=\"OverTime\")\n"
   ]
  },
  {
   "cell_type": "code",
   "execution_count": 9,
   "metadata": {
    "executionInfo": {
     "elapsed": 6,
     "status": "ok",
     "timestamp": 1730699227162,
     "user": {
      "displayName": "Alexander Booth",
      "userId": "02269714993535573104"
     },
     "user_tz": 360
    },
    "id": "EWA-aIA5Gc3T"
   },
   "outputs": [],
   "source": [
    "# Create a StandardScaler\n",
    "scaler = StandardScaler()\n",
    "\n",
    "# Fit the StandardScaler to the training data\n",
    "scaler.fit(X_train)\n",
    "\n",
    "# Scale the training and testing data\n",
    "\n",
    "X_train_scaled = scaler.transform(X_train)\n",
    "X_test_scaled = scaler.transform(X_test)"
   ]
  },
  {
   "cell_type": "code",
   "execution_count": 12,
   "metadata": {
    "colab": {
     "base_uri": "https://localhost:8080/"
    },
    "executionInfo": {
     "elapsed": 99,
     "status": "ok",
     "timestamp": 1730699227256,
     "user": {
      "displayName": "Alexander Booth",
      "userId": "02269714993535573104"
     },
     "user_tz": 360
    },
    "id": "-z0Mky8vQSz4",
    "outputId": "5024d63f-7e4e-4a91-fb76-0b2c79c1bcfb"
   },
   "outputs": [],
   "source": [
    "\n",
    "# Create a OneHotEncoder for the Department column\n",
    "\n",
    "department_encoder = OneHotEncoder(sparse_output=False,drop='first')\n",
    "\n",
    "# Fit the encoder to the training data\n",
    "department_encoder.fit(np.array(y_train[\"Department\"]).reshape(-1,1))\n",
    "\n",
    "# Create two new variables by applying the encoder\n",
    "# to the training and testing data\n",
    "y_department_train= department_encoder.transform(np.array(y_train[\"Department\"]).reshape(-1,1))\n",
    "y_department_test= department_encoder.transform(np.array(y_test[\"Department\"]).reshape(-1,1))\n"
   ]
  },
  {
   "cell_type": "code",
   "execution_count": 13,
   "metadata": {
    "colab": {
     "base_uri": "https://localhost:8080/"
    },
    "executionInfo": {
     "elapsed": 5,
     "status": "ok",
     "timestamp": 1730699227257,
     "user": {
      "displayName": "Alexander Booth",
      "userId": "02269714993535573104"
     },
     "user_tz": 360
    },
    "id": "-G4DSpvFRrk4",
    "outputId": "1821049e-a4f0-437f-b8a7-e415431fbdb0"
   },
   "outputs": [],
   "source": [
    "# Create a OneHotEncoder for the Attrition column\n",
    "attrition_encoder = OneHotEncoder(sparse_output=False,drop='first')\n",
    "\n",
    "# Fit the encoder to the training data\n",
    "attrition_encoder.fit(np.array(y_train[\"Attrition\"]).reshape(-1,1))\n",
    "\n",
    "# Create two new variables by applying the encoder\n",
    "# to the training and testing data\n",
    "\n",
    "y_attrition_train= attrition_encoder.transform(np.array(y_train[\"Attrition\"]).reshape(-1,1))\n",
    "y_attrition_test= attrition_encoder.transform(np.array(y_test[\"Attrition\"]).reshape(-1,1))"
   ]
  },
  {
   "cell_type": "markdown",
   "metadata": {
    "id": "ykNmu_WWGc3T"
   },
   "source": [
    "## Part 2: Create, Compile, and Train the Model"
   ]
  },
  {
   "cell_type": "code",
   "execution_count": 14,
   "metadata": {
    "executionInfo": {
     "elapsed": 309,
     "status": "ok",
     "timestamp": 1730699227563,
     "user": {
      "displayName": "Alexander Booth",
      "userId": "02269714993535573104"
     },
     "user_tz": 360
    },
    "id": "WUptZqmSGc3T"
   },
   "outputs": [],
   "source": [
    "# Find the number of columns in the X training data.\n",
    "X_train_features = len(X_train.columns)\n",
    "\n",
    "# Create the input layer\n",
    "input = layers.Input(shape=(X_train_features,),name=\"input\")\n",
    "\n",
    "# Create at least two shared layers\n",
    "\n",
    "shared_1 = layers.Dense(64,activation=\"relu\",name=\"shared_1\")(input)\n",
    "shared_2 = layers.Dense(128,activation=\"relu\",name=\"shared_2\")(shared_1)\n"
   ]
  },
  {
   "cell_type": "code",
   "execution_count": 15,
   "metadata": {
    "executionInfo": {
     "elapsed": 118,
     "status": "ok",
     "timestamp": 1730699227678,
     "user": {
      "displayName": "Alexander Booth",
      "userId": "02269714993535573104"
     },
     "user_tz": 360
    },
    "id": "JukjTm2yTEqd"
   },
   "outputs": [],
   "source": [
    "# Create a branch for Department\n",
    "# with a hidden layer and an output layer\n",
    "\n",
    "\n",
    "# Create the hidden layer\n",
    "department_hidden = layers.Dense(32,activation=\"relu\",name=\"department_hidden\")(shared_2)\n",
    "\n",
    "# Create the output layer\n",
    "department_output = layers.Dense(y_department_train.shape[1],activation=\"softmax\",name=\"department_output\")(department_hidden)"
   ]
  },
  {
   "cell_type": "code",
   "execution_count": 16,
   "metadata": {
    "executionInfo": {
     "elapsed": 9,
     "status": "ok",
     "timestamp": 1730699227679,
     "user": {
      "displayName": "Alexander Booth",
      "userId": "02269714993535573104"
     },
     "user_tz": 360
    },
    "id": "9OqhUiOJUBkR"
   },
   "outputs": [],
   "source": [
    "# Create a branch for Attrition\n",
    "# with a hidden layer and an output layer\n",
    "\n",
    "# Create the hidden layer\n",
    "attrition_hidden = layers.Dense(32,activation=\"relu\",name=\"attrition_hidden\")(shared_2)\n",
    "\n",
    "# Create the output layer\n",
    "attrition_output = layers.Dense(y_attrition_train.shape[1],activation=\"sigmoid\",name=\"attrition_output\")(attrition_hidden)"
   ]
  },
  {
   "cell_type": "code",
   "execution_count": 17,
   "metadata": {
    "colab": {
     "base_uri": "https://localhost:8080/",
     "height": 361
    },
    "executionInfo": {
     "elapsed": 108,
     "status": "ok",
     "timestamp": 1730699227780,
     "user": {
      "displayName": "Alexander Booth",
      "userId": "02269714993535573104"
     },
     "user_tz": 360
    },
    "id": "twmuejdxGc3T",
    "outputId": "dd9ce242-6a66-4709-ba13-4b13551c22e0"
   },
   "outputs": [
    {
     "name": "stdout",
     "output_type": "stream",
     "text": [
      "Model: \"model\"\n",
      "__________________________________________________________________________________________________\n",
      " Layer (type)                   Output Shape         Param #     Connected to                     \n",
      "==================================================================================================\n",
      " input (InputLayer)             [(None, 10)]         0           []                               \n",
      "                                                                                                  \n",
      " shared_1 (Dense)               (None, 64)           704         ['input[0][0]']                  \n",
      "                                                                                                  \n",
      " shared_2 (Dense)               (None, 128)          8320        ['shared_1[0][0]']               \n",
      "                                                                                                  \n",
      " attrition_hidden (Dense)       (None, 32)           4128        ['shared_2[0][0]']               \n",
      "                                                                                                  \n",
      " department_hidden (Dense)      (None, 32)           4128        ['shared_2[0][0]']               \n",
      "                                                                                                  \n",
      " attrition_output (Dense)       (None, 1)            33          ['attrition_hidden[0][0]']       \n",
      "                                                                                                  \n",
      " department_output (Dense)      (None, 2)            66          ['department_hidden[0][0]']      \n",
      "                                                                                                  \n",
      "==================================================================================================\n",
      "Total params: 17,379\n",
      "Trainable params: 17,379\n",
      "Non-trainable params: 0\n",
      "__________________________________________________________________________________________________\n"
     ]
    }
   ],
   "source": [
    "# Create the model\n",
    "\n",
    "model = Model(inputs= input, outputs={\"department_output\": department_output, \"attrition_output\": attrition_output})\n",
    "\n",
    "# Compile the model\n",
    "model.compile(optimizer=\"adam\", \n",
    "              loss={\"department_output\":\"categorical_crossentropy\",\n",
    "                    \"attrition_output\":\"binary_crossentropy\"},\n",
    "               metrics={\"department_output\": \"accuracy\",\n",
    "                        \"attrition_output\": \"accuracy\"})\n",
    "\n",
    "# Summarize the model\n",
    "model.summary()"
   ]
  },
  {
   "cell_type": "code",
   "execution_count": 18,
   "metadata": {
    "colab": {
     "base_uri": "https://localhost:8080/"
    },
    "executionInfo": {
     "elapsed": 31740,
     "status": "ok",
     "timestamp": 1730699259517,
     "user": {
      "displayName": "Alexander Booth",
      "userId": "02269714993535573104"
     },
     "user_tz": 360
    },
    "id": "c8oGy0dpGc3U",
    "outputId": "f48a5292-426f-4715-ea6e-381a8e9d5542"
   },
   "outputs": [
    {
     "name": "stdout",
     "output_type": "stream",
     "text": [
      "Epoch 1/100\n"
     ]
    },
    {
     "name": "stderr",
     "output_type": "stream",
     "text": [
      "2025-02-06 17:45:20.151349: W tensorflow/tsl/platform/profile_utils/cpu_utils.cc:128] Failed to get CPU frequency: 0 Hz\n"
     ]
    },
    {
     "name": "stdout",
     "output_type": "stream",
     "text": [
      "37/37 [==============================] - 0s 870us/step - loss: 1.1060 - attrition_output_loss: 0.4940 - department_output_loss: 0.6120 - attrition_output_accuracy: 0.8129 - department_output_accuracy: 0.6905\n",
      "Epoch 2/100\n",
      "37/37 [==============================] - 0s 701us/step - loss: 1.0090 - attrition_output_loss: 0.4129 - department_output_loss: 0.5962 - attrition_output_accuracy: 0.8359 - department_output_accuracy: 0.6930\n",
      "Epoch 3/100\n",
      "37/37 [==============================] - 0s 798us/step - loss: 0.9765 - attrition_output_loss: 0.3879 - department_output_loss: 0.5886 - attrition_output_accuracy: 0.8461 - department_output_accuracy: 0.6922\n",
      "Epoch 4/100\n",
      "37/37 [==============================] - 0s 881us/step - loss: 0.9580 - attrition_output_loss: 0.3720 - department_output_loss: 0.5860 - attrition_output_accuracy: 0.8486 - department_output_accuracy: 0.6930\n",
      "Epoch 5/100\n",
      "37/37 [==============================] - 0s 901us/step - loss: 0.9458 - attrition_output_loss: 0.3608 - department_output_loss: 0.5850 - attrition_output_accuracy: 0.8588 - department_output_accuracy: 0.6981\n",
      "Epoch 6/100\n",
      "37/37 [==============================] - 0s 894us/step - loss: 0.9483 - attrition_output_loss: 0.3614 - department_output_loss: 0.5869 - attrition_output_accuracy: 0.8656 - department_output_accuracy: 0.6862\n",
      "Epoch 7/100\n",
      "37/37 [==============================] - 0s 903us/step - loss: 0.9613 - attrition_output_loss: 0.3560 - department_output_loss: 0.6053 - attrition_output_accuracy: 0.8588 - department_output_accuracy: 0.6684\n",
      "Epoch 8/100\n",
      "37/37 [==============================] - 0s 881us/step - loss: 0.9901 - attrition_output_loss: 0.3695 - department_output_loss: 0.6206 - attrition_output_accuracy: 0.8580 - department_output_accuracy: 0.6624\n",
      "Epoch 9/100\n",
      "37/37 [==============================] - 0s 863us/step - loss: 1.0007 - attrition_output_loss: 0.3769 - department_output_loss: 0.6238 - attrition_output_accuracy: 0.8529 - department_output_accuracy: 0.6769\n",
      "Epoch 10/100\n",
      "37/37 [==============================] - 0s 985us/step - loss: 1.3233 - attrition_output_loss: 0.4047 - department_output_loss: 0.9187 - attrition_output_accuracy: 0.8316 - department_output_accuracy: 0.6063\n",
      "Epoch 11/100\n",
      "37/37 [==============================] - 0s 1ms/step - loss: 1.4528 - attrition_output_loss: 0.4749 - department_output_loss: 0.9779 - attrition_output_accuracy: 0.8350 - department_output_accuracy: 0.5876\n",
      "Epoch 12/100\n",
      "37/37 [==============================] - 0s 906us/step - loss: 1.6825 - attrition_output_loss: 0.4787 - department_output_loss: 1.2038 - attrition_output_accuracy: 0.8223 - department_output_accuracy: 0.5655\n",
      "Epoch 13/100\n",
      "37/37 [==============================] - 0s 950us/step - loss: 1.6127 - attrition_output_loss: 0.4055 - department_output_loss: 1.2071 - attrition_output_accuracy: 0.8461 - department_output_accuracy: 0.6012\n",
      "Epoch 14/100\n",
      "37/37 [==============================] - 0s 924us/step - loss: 5.0497 - attrition_output_loss: 0.5190 - department_output_loss: 4.5307 - attrition_output_accuracy: 0.8257 - department_output_accuracy: 0.5663\n",
      "Epoch 15/100\n",
      "37/37 [==============================] - 0s 901us/step - loss: 2.6396 - attrition_output_loss: 0.5203 - department_output_loss: 2.1193 - attrition_output_accuracy: 0.8223 - department_output_accuracy: 0.5910\n",
      "Epoch 16/100\n",
      "37/37 [==============================] - 0s 919us/step - loss: 4.3110 - attrition_output_loss: 0.9253 - department_output_loss: 3.3857 - attrition_output_accuracy: 0.7806 - department_output_accuracy: 0.5757\n",
      "Epoch 17/100\n",
      "37/37 [==============================] - 0s 925us/step - loss: 11.8079 - attrition_output_loss: 0.5569 - department_output_loss: 11.2510 - attrition_output_accuracy: 0.8265 - department_output_accuracy: 0.5527\n",
      "Epoch 18/100\n",
      "37/37 [==============================] - 0s 897us/step - loss: 7.0003 - attrition_output_loss: 0.4981 - department_output_loss: 6.5022 - attrition_output_accuracy: 0.8265 - department_output_accuracy: 0.5859\n",
      "Epoch 19/100\n",
      "37/37 [==============================] - 0s 872us/step - loss: 6.3234 - attrition_output_loss: 0.7802 - department_output_loss: 5.5433 - attrition_output_accuracy: 0.8061 - department_output_accuracy: 0.5774\n",
      "Epoch 20/100\n",
      "37/37 [==============================] - 0s 875us/step - loss: 19.5353 - attrition_output_loss: 1.7712 - department_output_loss: 17.7641 - attrition_output_accuracy: 0.7611 - department_output_accuracy: 0.5689\n",
      "Epoch 21/100\n",
      "37/37 [==============================] - 0s 872us/step - loss: 18.5975 - attrition_output_loss: 1.0813 - department_output_loss: 17.5162 - attrition_output_accuracy: 0.8036 - department_output_accuracy: 0.5570\n",
      "Epoch 22/100\n",
      "37/37 [==============================] - 0s 865us/step - loss: 28.3131 - attrition_output_loss: 1.0514 - department_output_loss: 27.2616 - attrition_output_accuracy: 0.7679 - department_output_accuracy: 0.5612\n",
      "Epoch 23/100\n",
      "37/37 [==============================] - 0s 876us/step - loss: 20.0168 - attrition_output_loss: 1.0499 - department_output_loss: 18.9669 - attrition_output_accuracy: 0.7832 - department_output_accuracy: 0.5825\n",
      "Epoch 24/100\n",
      "37/37 [==============================] - 0s 868us/step - loss: 20.5914 - attrition_output_loss: 0.7181 - department_output_loss: 19.8733 - attrition_output_accuracy: 0.7985 - department_output_accuracy: 0.5672\n",
      "Epoch 25/100\n",
      "37/37 [==============================] - 0s 879us/step - loss: 26.8783 - attrition_output_loss: 1.2852 - department_output_loss: 25.5931 - attrition_output_accuracy: 0.7526 - department_output_accuracy: 0.5723\n",
      "Epoch 26/100\n",
      "37/37 [==============================] - 0s 896us/step - loss: 46.3070 - attrition_output_loss: 2.0517 - department_output_loss: 44.2553 - attrition_output_accuracy: 0.7636 - department_output_accuracy: 0.5714\n",
      "Epoch 27/100\n",
      "37/37 [==============================] - 0s 895us/step - loss: 49.6360 - attrition_output_loss: 1.1247 - department_output_loss: 48.5113 - attrition_output_accuracy: 0.8019 - department_output_accuracy: 0.5680\n",
      "Epoch 28/100\n",
      "37/37 [==============================] - 0s 891us/step - loss: 44.3066 - attrition_output_loss: 1.5711 - department_output_loss: 42.7355 - attrition_output_accuracy: 0.7772 - department_output_accuracy: 0.5485\n",
      "Epoch 29/100\n",
      "37/37 [==============================] - 0s 870us/step - loss: 53.3293 - attrition_output_loss: 1.4986 - department_output_loss: 51.8307 - attrition_output_accuracy: 0.7636 - department_output_accuracy: 0.5910\n",
      "Epoch 30/100\n",
      "37/37 [==============================] - 0s 868us/step - loss: 38.3878 - attrition_output_loss: 1.7186 - department_output_loss: 36.6693 - attrition_output_accuracy: 0.7696 - department_output_accuracy: 0.5757\n",
      "Epoch 31/100\n",
      "37/37 [==============================] - 0s 871us/step - loss: 70.4218 - attrition_output_loss: 2.0307 - department_output_loss: 68.3911 - attrition_output_accuracy: 0.7423 - department_output_accuracy: 0.5604\n",
      "Epoch 32/100\n",
      "37/37 [==============================] - 0s 877us/step - loss: 66.7341 - attrition_output_loss: 1.8980 - department_output_loss: 64.8361 - attrition_output_accuracy: 0.7602 - department_output_accuracy: 0.5621\n",
      "Epoch 33/100\n",
      "37/37 [==============================] - 0s 883us/step - loss: 84.3732 - attrition_output_loss: 2.5328 - department_output_loss: 81.8404 - attrition_output_accuracy: 0.7704 - department_output_accuracy: 0.5689\n",
      "Epoch 34/100\n",
      "37/37 [==============================] - 0s 885us/step - loss: 78.5849 - attrition_output_loss: 1.7338 - department_output_loss: 76.8511 - attrition_output_accuracy: 0.7687 - department_output_accuracy: 0.5485\n",
      "Epoch 35/100\n",
      "37/37 [==============================] - 0s 878us/step - loss: 57.9878 - attrition_output_loss: 2.0597 - department_output_loss: 55.9282 - attrition_output_accuracy: 0.7628 - department_output_accuracy: 0.5672\n",
      "Epoch 36/100\n",
      "37/37 [==============================] - 0s 874us/step - loss: 83.6310 - attrition_output_loss: 4.4397 - department_output_loss: 79.1913 - attrition_output_accuracy: 0.7287 - department_output_accuracy: 0.5672\n",
      "Epoch 37/100\n",
      "37/37 [==============================] - 0s 862us/step - loss: 39.4301 - attrition_output_loss: 9.1224 - department_output_loss: 30.3078 - attrition_output_accuracy: 0.7262 - department_output_accuracy: 0.5638\n",
      "Epoch 38/100\n",
      "37/37 [==============================] - 0s 1ms/step - loss: 68.4493 - attrition_output_loss: 4.1710 - department_output_loss: 64.2783 - attrition_output_accuracy: 0.7568 - department_output_accuracy: 0.5876\n",
      "Epoch 39/100\n",
      "37/37 [==============================] - 0s 880us/step - loss: 129.0226 - attrition_output_loss: 3.9918 - department_output_loss: 125.0308 - attrition_output_accuracy: 0.7270 - department_output_accuracy: 0.5723\n",
      "Epoch 40/100\n",
      "37/37 [==============================] - 0s 890us/step - loss: 146.3097 - attrition_output_loss: 3.6905 - department_output_loss: 142.6192 - attrition_output_accuracy: 0.7738 - department_output_accuracy: 0.5553\n",
      "Epoch 41/100\n",
      "37/37 [==============================] - 0s 877us/step - loss: 88.0990 - attrition_output_loss: 4.7927 - department_output_loss: 83.3063 - attrition_output_accuracy: 0.7449 - department_output_accuracy: 0.5680\n",
      "Epoch 42/100\n",
      "37/37 [==============================] - 0s 894us/step - loss: 74.5201 - attrition_output_loss: 3.0384 - department_output_loss: 71.4817 - attrition_output_accuracy: 0.7653 - department_output_accuracy: 0.5774\n",
      "Epoch 43/100\n",
      "37/37 [==============================] - 0s 860us/step - loss: 247.8147 - attrition_output_loss: 4.3941 - department_output_loss: 243.4206 - attrition_output_accuracy: 0.7517 - department_output_accuracy: 0.5519\n",
      "Epoch 44/100\n",
      "37/37 [==============================] - 0s 868us/step - loss: 214.9264 - attrition_output_loss: 3.0063 - department_output_loss: 211.9201 - attrition_output_accuracy: 0.7526 - department_output_accuracy: 0.5680\n",
      "Epoch 45/100\n",
      "37/37 [==============================] - 0s 875us/step - loss: 193.1712 - attrition_output_loss: 13.0016 - department_output_loss: 180.1696 - attrition_output_accuracy: 0.7109 - department_output_accuracy: 0.5757\n",
      "Epoch 46/100\n",
      "37/37 [==============================] - 0s 885us/step - loss: 169.1546 - attrition_output_loss: 6.7756 - department_output_loss: 162.3790 - attrition_output_accuracy: 0.7849 - department_output_accuracy: 0.5595\n",
      "Epoch 47/100\n",
      "37/37 [==============================] - 0s 877us/step - loss: 353.8716 - attrition_output_loss: 1.8033 - department_output_loss: 352.0684 - attrition_output_accuracy: 0.7832 - department_output_accuracy: 0.5570\n",
      "Epoch 48/100\n",
      "37/37 [==============================] - 0s 883us/step - loss: 148.7771 - attrition_output_loss: 2.5765 - department_output_loss: 146.2006 - attrition_output_accuracy: 0.7491 - department_output_accuracy: 0.5510\n",
      "Epoch 49/100\n",
      "37/37 [==============================] - 0s 867us/step - loss: 176.7979 - attrition_output_loss: 8.4405 - department_output_loss: 168.3574 - attrition_output_accuracy: 0.7568 - department_output_accuracy: 0.5697\n",
      "Epoch 50/100\n",
      "37/37 [==============================] - 0s 877us/step - loss: 241.8151 - attrition_output_loss: 7.0280 - department_output_loss: 234.7871 - attrition_output_accuracy: 0.7389 - department_output_accuracy: 0.5485\n",
      "Epoch 51/100\n",
      "37/37 [==============================] - 0s 873us/step - loss: 288.0086 - attrition_output_loss: 4.9974 - department_output_loss: 283.0113 - attrition_output_accuracy: 0.7619 - department_output_accuracy: 0.5774\n",
      "Epoch 52/100\n",
      "37/37 [==============================] - 0s 883us/step - loss: 130.9912 - attrition_output_loss: 2.0477 - department_output_loss: 128.9435 - attrition_output_accuracy: 0.7619 - department_output_accuracy: 0.5799\n",
      "Epoch 53/100\n",
      "37/37 [==============================] - 0s 874us/step - loss: 254.2895 - attrition_output_loss: 2.7129 - department_output_loss: 251.5765 - attrition_output_accuracy: 0.7534 - department_output_accuracy: 0.5366\n",
      "Epoch 54/100\n",
      "37/37 [==============================] - 0s 856us/step - loss: 189.0591 - attrition_output_loss: 2.4492 - department_output_loss: 186.6099 - attrition_output_accuracy: 0.7577 - department_output_accuracy: 0.5714\n",
      "Epoch 55/100\n",
      "37/37 [==============================] - 0s 883us/step - loss: 297.5637 - attrition_output_loss: 3.6557 - department_output_loss: 293.9080 - attrition_output_accuracy: 0.7338 - department_output_accuracy: 0.5536\n",
      "Epoch 56/100\n",
      "37/37 [==============================] - 0s 882us/step - loss: 183.1696 - attrition_output_loss: 4.3289 - department_output_loss: 178.8407 - attrition_output_accuracy: 0.7330 - department_output_accuracy: 0.5995\n",
      "Epoch 57/100\n",
      "37/37 [==============================] - 0s 876us/step - loss: 445.5469 - attrition_output_loss: 5.3593 - department_output_loss: 440.1876 - attrition_output_accuracy: 0.7381 - department_output_accuracy: 0.5638\n",
      "Epoch 58/100\n",
      "37/37 [==============================] - 0s 867us/step - loss: 476.6672 - attrition_output_loss: 4.4698 - department_output_loss: 472.1974 - attrition_output_accuracy: 0.7517 - department_output_accuracy: 0.5366\n",
      "Epoch 59/100\n",
      "37/37 [==============================] - 0s 864us/step - loss: 163.0115 - attrition_output_loss: 4.0212 - department_output_loss: 158.9904 - attrition_output_accuracy: 0.7543 - department_output_accuracy: 0.5901\n",
      "Epoch 60/100\n",
      "37/37 [==============================] - 0s 885us/step - loss: 411.5871 - attrition_output_loss: 9.1375 - department_output_loss: 402.4496 - attrition_output_accuracy: 0.7338 - department_output_accuracy: 0.5672\n",
      "Epoch 61/100\n",
      "37/37 [==============================] - 0s 848us/step - loss: 631.4982 - attrition_output_loss: 5.3984 - department_output_loss: 626.0998 - attrition_output_accuracy: 0.7415 - department_output_accuracy: 0.5417\n",
      "Epoch 62/100\n",
      "37/37 [==============================] - 0s 894us/step - loss: 493.6433 - attrition_output_loss: 7.2459 - department_output_loss: 486.3974 - attrition_output_accuracy: 0.7372 - department_output_accuracy: 0.5935\n",
      "Epoch 63/100\n",
      "37/37 [==============================] - 0s 869us/step - loss: 408.0905 - attrition_output_loss: 7.0117 - department_output_loss: 401.0789 - attrition_output_accuracy: 0.7389 - department_output_accuracy: 0.5638\n",
      "Epoch 64/100\n",
      "37/37 [==============================] - 0s 1ms/step - loss: 479.6461 - attrition_output_loss: 2.9862 - department_output_loss: 476.6598 - attrition_output_accuracy: 0.7466 - department_output_accuracy: 0.5519\n",
      "Epoch 65/100\n",
      "37/37 [==============================] - 0s 877us/step - loss: 442.3256 - attrition_output_loss: 2.3588 - department_output_loss: 439.9668 - attrition_output_accuracy: 0.7670 - department_output_accuracy: 0.5757\n",
      "Epoch 66/100\n",
      "37/37 [==============================] - 0s 869us/step - loss: 361.8790 - attrition_output_loss: 3.3267 - department_output_loss: 358.5523 - attrition_output_accuracy: 0.7594 - department_output_accuracy: 0.5374\n",
      "Epoch 67/100\n",
      "37/37 [==============================] - 0s 886us/step - loss: 360.2452 - attrition_output_loss: 6.3082 - department_output_loss: 353.9370 - attrition_output_accuracy: 0.7474 - department_output_accuracy: 0.5680\n",
      "Epoch 68/100\n",
      "37/37 [==============================] - 0s 848us/step - loss: 418.7905 - attrition_output_loss: 7.6350 - department_output_loss: 411.1555 - attrition_output_accuracy: 0.7160 - department_output_accuracy: 0.5629\n",
      "Epoch 69/100\n",
      "37/37 [==============================] - 0s 870us/step - loss: 429.3952 - attrition_output_loss: 15.6582 - department_output_loss: 413.7371 - attrition_output_accuracy: 0.7151 - department_output_accuracy: 0.5604\n",
      "Epoch 70/100\n",
      "37/37 [==============================] - 0s 860us/step - loss: 453.1067 - attrition_output_loss: 9.2575 - department_output_loss: 443.8492 - attrition_output_accuracy: 0.7304 - department_output_accuracy: 0.5561\n",
      "Epoch 71/100\n",
      "37/37 [==============================] - 0s 865us/step - loss: 474.9177 - attrition_output_loss: 7.3056 - department_output_loss: 467.6122 - attrition_output_accuracy: 0.7483 - department_output_accuracy: 0.5978\n",
      "Epoch 72/100\n",
      "37/37 [==============================] - 0s 857us/step - loss: 603.4994 - attrition_output_loss: 13.3102 - department_output_loss: 590.1893 - attrition_output_accuracy: 0.7049 - department_output_accuracy: 0.5893\n",
      "Epoch 73/100\n",
      "37/37 [==============================] - 0s 900us/step - loss: 348.0344 - attrition_output_loss: 3.8769 - department_output_loss: 344.1575 - attrition_output_accuracy: 0.7389 - department_output_accuracy: 0.5689\n",
      "Epoch 74/100\n",
      "37/37 [==============================] - 0s 858us/step - loss: 505.7693 - attrition_output_loss: 13.0596 - department_output_loss: 492.7096 - attrition_output_accuracy: 0.7304 - department_output_accuracy: 0.5502\n",
      "Epoch 75/100\n",
      "37/37 [==============================] - 0s 894us/step - loss: 322.0863 - attrition_output_loss: 8.4333 - department_output_loss: 313.6531 - attrition_output_accuracy: 0.7143 - department_output_accuracy: 0.5859\n",
      "Epoch 76/100\n",
      "37/37 [==============================] - 0s 885us/step - loss: 276.4479 - attrition_output_loss: 4.2443 - department_output_loss: 272.2036 - attrition_output_accuracy: 0.7704 - department_output_accuracy: 0.5680\n",
      "Epoch 77/100\n",
      "37/37 [==============================] - 0s 865us/step - loss: 474.6909 - attrition_output_loss: 3.8098 - department_output_loss: 470.8812 - attrition_output_accuracy: 0.7526 - department_output_accuracy: 0.6046\n",
      "Epoch 78/100\n",
      "37/37 [==============================] - 0s 857us/step - loss: 989.5276 - attrition_output_loss: 4.3938 - department_output_loss: 985.1335 - attrition_output_accuracy: 0.7296 - department_output_accuracy: 0.5986\n",
      "Epoch 79/100\n",
      "37/37 [==============================] - 0s 873us/step - loss: 1145.8042 - attrition_output_loss: 7.5653 - department_output_loss: 1138.2390 - attrition_output_accuracy: 0.7526 - department_output_accuracy: 0.5697\n",
      "Epoch 80/100\n",
      "37/37 [==============================] - 0s 942us/step - loss: 506.0287 - attrition_output_loss: 4.7218 - department_output_loss: 501.3068 - attrition_output_accuracy: 0.7406 - department_output_accuracy: 0.5536\n",
      "Epoch 81/100\n",
      "37/37 [==============================] - 0s 857us/step - loss: 1042.4397 - attrition_output_loss: 4.6001 - department_output_loss: 1037.8397 - attrition_output_accuracy: 0.7619 - department_output_accuracy: 0.5757\n",
      "Epoch 82/100\n",
      "37/37 [==============================] - 0s 876us/step - loss: 545.0051 - attrition_output_loss: 3.7885 - department_output_loss: 541.2166 - attrition_output_accuracy: 0.7645 - department_output_accuracy: 0.5876\n",
      "Epoch 83/100\n",
      "37/37 [==============================] - 0s 874us/step - loss: 468.8493 - attrition_output_loss: 2.8779 - department_output_loss: 465.9714 - attrition_output_accuracy: 0.7857 - department_output_accuracy: 0.5757\n",
      "Epoch 84/100\n",
      "37/37 [==============================] - 0s 866us/step - loss: 838.1921 - attrition_output_loss: 3.8733 - department_output_loss: 834.3186 - attrition_output_accuracy: 0.7483 - department_output_accuracy: 0.5604\n",
      "Epoch 85/100\n",
      "37/37 [==============================] - 0s 1ms/step - loss: 1186.3025 - attrition_output_loss: 4.2509 - department_output_loss: 1182.0516 - attrition_output_accuracy: 0.7423 - department_output_accuracy: 0.5799\n",
      "Epoch 86/100\n",
      "37/37 [==============================] - 0s 875us/step - loss: 471.2499 - attrition_output_loss: 6.1331 - department_output_loss: 465.1170 - attrition_output_accuracy: 0.7491 - department_output_accuracy: 0.5459\n",
      "Epoch 87/100\n",
      "37/37 [==============================] - 0s 860us/step - loss: 667.6988 - attrition_output_loss: 18.1210 - department_output_loss: 649.5777 - attrition_output_accuracy: 0.7262 - department_output_accuracy: 0.5697\n",
      "Epoch 88/100\n",
      "37/37 [==============================] - 0s 881us/step - loss: 1230.7072 - attrition_output_loss: 5.0581 - department_output_loss: 1225.6493 - attrition_output_accuracy: 0.7406 - department_output_accuracy: 0.5536\n",
      "Epoch 89/100\n",
      "37/37 [==============================] - 0s 873us/step - loss: 1014.8279 - attrition_output_loss: 4.6183 - department_output_loss: 1010.2094 - attrition_output_accuracy: 0.7398 - department_output_accuracy: 0.5884\n",
      "Epoch 90/100\n",
      "37/37 [==============================] - 0s 880us/step - loss: 611.3699 - attrition_output_loss: 6.5566 - department_output_loss: 604.8134 - attrition_output_accuracy: 0.7347 - department_output_accuracy: 0.5451\n",
      "Epoch 91/100\n",
      "37/37 [==============================] - 0s 854us/step - loss: 856.3417 - attrition_output_loss: 6.0587 - department_output_loss: 850.2831 - attrition_output_accuracy: 0.7406 - department_output_accuracy: 0.5502\n",
      "Epoch 92/100\n",
      "37/37 [==============================] - 0s 894us/step - loss: 860.0724 - attrition_output_loss: 18.0120 - department_output_loss: 842.0604 - attrition_output_accuracy: 0.7032 - department_output_accuracy: 0.5680\n",
      "Epoch 93/100\n",
      "37/37 [==============================] - 0s 887us/step - loss: 1333.2371 - attrition_output_loss: 7.6858 - department_output_loss: 1325.5513 - attrition_output_accuracy: 0.7398 - department_output_accuracy: 0.5689\n",
      "Epoch 94/100\n",
      "37/37 [==============================] - 0s 869us/step - loss: 667.4966 - attrition_output_loss: 17.2868 - department_output_loss: 650.2098 - attrition_output_accuracy: 0.7364 - department_output_accuracy: 0.5527\n",
      "Epoch 95/100\n",
      "37/37 [==============================] - 0s 866us/step - loss: 608.9153 - attrition_output_loss: 11.7663 - department_output_loss: 597.1491 - attrition_output_accuracy: 0.7279 - department_output_accuracy: 0.5672\n",
      "Epoch 96/100\n",
      "37/37 [==============================] - 0s 875us/step - loss: 966.7401 - attrition_output_loss: 4.2701 - department_output_loss: 962.4700 - attrition_output_accuracy: 0.7423 - department_output_accuracy: 0.5672\n",
      "Epoch 97/100\n",
      "37/37 [==============================] - 0s 861us/step - loss: 846.4529 - attrition_output_loss: 6.3552 - department_output_loss: 840.0979 - attrition_output_accuracy: 0.7245 - department_output_accuracy: 0.5672\n",
      "Epoch 98/100\n",
      "37/37 [==============================] - 0s 869us/step - loss: 1058.5712 - attrition_output_loss: 13.5857 - department_output_loss: 1044.9856 - attrition_output_accuracy: 0.7211 - department_output_accuracy: 0.5502\n",
      "Epoch 99/100\n",
      "37/37 [==============================] - 0s 871us/step - loss: 1689.8418 - attrition_output_loss: 27.0350 - department_output_loss: 1662.8070 - attrition_output_accuracy: 0.7364 - department_output_accuracy: 0.5791\n",
      "Epoch 100/100\n",
      "37/37 [==============================] - 0s 878us/step - loss: 845.0191 - attrition_output_loss: 14.3132 - department_output_loss: 830.7058 - attrition_output_accuracy: 0.6820 - department_output_accuracy: 0.5833\n"
     ]
    },
    {
     "data": {
      "text/plain": [
       "<keras.callbacks.History at 0x339d8aec0>"
      ]
     },
     "execution_count": 18,
     "metadata": {},
     "output_type": "execute_result"
    }
   ],
   "source": [
    "# Train the model\n",
    "model.fit(X_train_scaled,{\"department_output\": y_department_train, \"attrition_output\": y_attrition_train},epochs=100)"
   ]
  },
  {
   "cell_type": "code",
   "execution_count": 23,
   "metadata": {
    "colab": {
     "base_uri": "https://localhost:8080/"
    },
    "executionInfo": {
     "elapsed": 379,
     "status": "ok",
     "timestamp": 1730699259894,
     "user": {
      "displayName": "Alexander Booth",
      "userId": "02269714993535573104"
     },
     "user_tz": 360
    },
    "id": "VsMoaQlgGc3U",
    "outputId": "636c85ba-ee63-4087-b7d1-00b408f1055a"
   },
   "outputs": [
    {
     "name": "stdout",
     "output_type": "stream",
     "text": [
      "10/10 [==============================] - 0s 685us/step - loss: 706.8660 - attrition_output_loss: 0.9647 - department_output_loss: 705.9013 - attrition_output_accuracy: 0.8741 - department_output_accuracy: 0.7109\n"
     ]
    },
    {
     "data": {
      "text/plain": [
       "[706.8660278320312,\n",
       " 0.9647217988967896,\n",
       " 705.9013061523438,\n",
       " 0.8741496801376343,\n",
       " 0.7108843326568604]"
      ]
     },
     "execution_count": 23,
     "metadata": {},
     "output_type": "execute_result"
    }
   ],
   "source": [
    "# Evaluate the model with the testing data\n",
    "model_results = model.evaluate(X_test_scaled,{\"department_output\":y_department_test, \"attrition_output\": y_attrition_test})\n",
    "\n",
    "model_results"
   ]
  },
  {
   "cell_type": "code",
   "execution_count": 22,
   "metadata": {
    "colab": {
     "base_uri": "https://localhost:8080/"
    },
    "executionInfo": {
     "elapsed": 113,
     "status": "ok",
     "timestamp": 1730699260004,
     "user": {
      "displayName": "Alexander Booth",
      "userId": "02269714993535573104"
     },
     "user_tz": 360
    },
    "id": "ZlCtlHi0Vt54",
    "outputId": "3a32435c-11cf-48da-81b5-1431d6c00da2"
   },
   "outputs": [
    {
     "name": "stdout",
     "output_type": "stream",
     "text": [
      "0.8741496801376343\n",
      "0.7108843326568604\n"
     ]
    }
   ],
   "source": [
    "# Print the accuracy for both department and attrition\n",
    "print(model_results[3])\n",
    "print(model_results[4])\n"
   ]
  },
  {
   "cell_type": "markdown",
   "metadata": {
    "id": "eGSyfsZfWOQM"
   },
   "source": [
    "# Summary\n",
    "\n",
    "In the provided space below, briefly answer the following questions.\n",
    "\n",
    "1. Is accuracy the best metric to use on this data? Why or why not?\n",
    "\n",
    "2. What activation functions did you choose for your output layers, and why?\n",
    "\n",
    "3. Can you name a few ways that this model might be improved?"
   ]
  },
  {
   "cell_type": "markdown",
   "metadata": {
    "id": "pi9SLpFnWvbF"
   },
   "source": [
    "\n",
    "\n",
    "1. Accuracy is not the best metric to use on this data because we're dealing with imbalanced data, which means this could cause over/under sampling.\n",
    "2. I chose softmax for the department data, as it yielded better results for the multiclass. For attrition, I used sigmoid as the attrition data is binary.\n",
    "3. This model can be improved with more data, more layers- particularly the overlay of economic data. We only used 10 columns of data here, so the sample wasn't large enough for a real company to use this model in practice."
   ]
  }
 ],
 "metadata": {
  "colab": {
   "provenance": []
  },
  "kernelspec": {
   "display_name": "dev",
   "language": "python",
   "name": "python3"
  },
  "language_info": {
   "codemirror_mode": {
    "name": "ipython",
    "version": 3
   },
   "file_extension": ".py",
   "mimetype": "text/x-python",
   "name": "python",
   "nbconvert_exporter": "python",
   "pygments_lexer": "ipython3",
   "version": "3.10.13"
  }
 },
 "nbformat": 4,
 "nbformat_minor": 0
}
